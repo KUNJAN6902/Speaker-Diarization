{
  "nbformat": 4,
  "nbformat_minor": 0,
  "metadata": {
    "colab": {
      "name": "Stereo-channel separation in Wav Files.ipynb",
      "provenance": [],
      "collapsed_sections": []
    },
    "kernelspec": {
      "name": "python3",
      "display_name": "Python 3"
    }
  },
  "cells": [
    {
      "cell_type": "code",
      "metadata": {
        "id": "_ds-N6K-ckoj",
        "colab_type": "code",
        "colab": {}
      },
      "source": [
        "# Import AudioSegment\n",
        "!pip install pydub\n",
        "from pydub import AudioSegment\n",
        "\n",
        "# Import stereo audio file and check channels\n",
        "stereo_phone_call = AudioSegment.from_file('/content/CXone recording 2.mp4')\n",
        "print(f\"Stereo number channels: {stereo_phone_call.channels}\")\n",
        "\n",
        "#Splitting Stereo Channels to Mono Channels\n",
        "phone_call_channels = stereo_phone_call.split_to_mono()\n",
        "\n",
        "#Exporting Mono channels as Wav files\n",
        "for i in range(0, stereo_phone_call.channels):\n",
        "  filename = \"WavFile_\" + str(i+1) + \".wav\"\n",
        "  phone_call_channels[i].export(out_f = filename, format = \"wav\")\n",
        "  print(filename + \" exported.\")"
      ],
      "execution_count": null,
      "outputs": []
    },
    {
      "cell_type": "code",
      "metadata": {
        "id": "2ftqClCq0gan",
        "colab_type": "code",
        "colab": {}
      },
      "source": [
        ""
      ],
      "execution_count": null,
      "outputs": []
    }
  ]
}