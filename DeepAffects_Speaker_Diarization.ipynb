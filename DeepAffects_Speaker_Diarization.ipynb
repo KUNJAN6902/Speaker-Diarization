{
  "nbformat": 4,
  "nbformat_minor": 0,
  "metadata": {
    "colab": {
      "name": "Speaker Diarization.ipynb",
      "provenance": []
    },
    "kernelspec": {
      "name": "python3",
      "display_name": "Python 3"
    }
  },
  "cells": [
    {
      "cell_type": "markdown",
      "metadata": {
        "id": "IUMAEP8nS041",
        "colab_type": "text"
      },
      "source": [
        "#**Seperating Speakers in a Wav File**"
      ]
    },
    {
      "cell_type": "code",
      "metadata": {
        "id": "j5dPYHdoCB96",
        "colab_type": "code",
        "colab": {}
      },
      "source": [
        "import requests\n",
        "import base64"
      ],
      "execution_count": 5,
      "outputs": []
    },
    {
      "cell_type": "code",
      "metadata": {
        "id": "LSN4TREhCClV",
        "colab_type": "code",
        "colab": {}
      },
      "source": [
        "url = \"https://proxy.api.deepaffects.com/audio/generic/api/v2/async/diarize\"\n",
        "querystring = {\"apikey\":\"4C1zb6cJL0j7VwlrZz0OiCdOaRAzrTzn\", \"webhook\":\"https://webhook.site/f5540c7c-b0ce-4a8c-9ad5-1aa1a8e03e90\"}\n",
        "payload = { \"encoding\": \"Wave\", \"languageCode\": \"en-US\", \"speakers\": -1, \"doVad\": True }\n",
        "headers = { 'Content-Type': \"application/json\", }"
      ],
      "execution_count": 58,
      "outputs": []
    },
    {
      "cell_type": "code",
      "metadata": {
        "id": "2vyd3OttCKMh",
        "colab_type": "code",
        "colab": {}
      },
      "source": [
        "with open(\"/content/sample_data/Samoy.wav\", 'rb') as fin:\n",
        "    audio_content = fin.read()\n",
        "\n",
        "payload[\"content\"] = base64.b64encode(audio_content).decode('utf-8')"
      ],
      "execution_count": 8,
      "outputs": []
    },
    {
      "cell_type": "code",
      "metadata": {
        "id": "0ehREzxKCfWz",
        "colab_type": "code",
        "colab": {
          "base_uri": "https://localhost:8080/",
          "height": 34
        },
        "outputId": "7e03d4aa-e6ba-41d5-d045-36c0366104f4"
      },
      "source": [
        "response = requests.post(url, json=payload, headers=headers, params=querystring)\n",
        "print(response.text)"
      ],
      "execution_count": 10,
      "outputs": [
        {
          "output_type": "stream",
          "text": [
            "{\"api\":\"/audio/generic/api/v2/async/diarize\",\"request_id\":\"f2871a56-c7d3-4319-ba0e-9b649b0fae37\"}\n"
          ],
          "name": "stdout"
        }
      ]
    },
    {
      "cell_type": "markdown",
      "metadata": {
        "id": "uAn-yL1oSvLE",
        "colab_type": "text"
      },
      "source": [
        "##**Taking Speaker 0's Data**"
      ]
    },
    {
      "cell_type": "code",
      "metadata": {
        "id": "Ixg7tIb6B68p",
        "colab_type": "code",
        "colab": {}
      },
      "source": [
        "from pydub import AudioSegment\n",
        "newAudio = AudioSegment.from_wav(\"/content/sample_data/Samoy.wav\")\n",
        "\n",
        "#Start timestamps for Speaker 0\n",
        "start = [8.21, 14.49, 21.72, 34.095, 134.015, 138.58, 141.205, 142.58, 144.455, 146.84, \n",
        "          148.715, 172.33, 184.05, 188.94, 193.48, 198.48, 205.39, 213.265, 222.665, 228.725, \n",
        "            234.725, 238.475, 244.61, 256.84, 260.215, 269.215, 275.215, 280.715, 284.465, 286.2]\n",
        "\n",
        "#End timestamps for Speaker 0\n",
        "end = [13.84, 21.12, 23.595, 37.43, 137.98, 141.205, 141.980, 144.455, 145.980, 148.715, \n",
        "        150.24, 175.705, 186.675, 192.34, 197.7, 204.79, 206.515, 217.839, 225.5, 230.975, \n",
        "          236.225, 239.4, 256.24, 257.965, 262.465, 269.965, 277.489, 283.715, 285.599, 289.599]"
      ],
      "execution_count": 54,
      "outputs": []
    },
    {
      "cell_type": "markdown",
      "metadata": {
        "id": "_fyrCeIDTW4l",
        "colab_type": "text"
      },
      "source": [
        "###**Creating Seperate Wav files for all audio segments of Speaker 0**"
      ]
    },
    {
      "cell_type": "code",
      "metadata": {
        "id": "IJmkoSdVEpou",
        "colab_type": "code",
        "colab": {}
      },
      "source": [
        "for i in range(len(start)):\n",
        "\n",
        "  newAudio = AudioSegment.from_wav(\"/content/sample_data/Samoy.wav\")\n",
        "  newAudio = newAudio[int(start[i]*1000):int(end[i]*1000)]\n",
        "\n",
        "  newAudio.export('newSong' + str(i) + '.wav', format=\"wav\")"
      ],
      "execution_count": 55,
      "outputs": []
    },
    {
      "cell_type": "markdown",
      "metadata": {
        "id": "fI_SEK5NTgX7",
        "colab_type": "text"
      },
      "source": [
        "###**Combining all segments of Speaker 0**"
      ]
    },
    {
      "cell_type": "code",
      "metadata": {
        "id": "WZiLO6ZaLp9K",
        "colab_type": "code",
        "colab": {}
      },
      "source": [
        "combined_sounds = AudioSegment.from_wav(\"/content/newSong0.wav\")\n",
        "\n",
        "for i in range(1,len(start)):\n",
        "  sound = AudioSegment.from_wav(\"/content/newSong\" + str(i) + \".wav\")\n",
        "  \n",
        "  combined_sounds = combined_sounds + sound\n",
        "  combined_sounds.export('newSong_Total.wav', format=\"wav\")"
      ],
      "execution_count": 56,
      "outputs": []
    },
    {
      "cell_type": "markdown",
      "metadata": {
        "id": "1E554mfsUK17",
        "colab_type": "text"
      },
      "source": [
        "###**Deleting temporary files**"
      ]
    },
    {
      "cell_type": "code",
      "metadata": {
        "id": "V9kiSq2ET5Hs",
        "colab_type": "code",
        "colab": {}
      },
      "source": [
        "import os\n",
        "for i in range(len(start)):\n",
        "  os.remove('/content/newSong' + str(i) + '.wav')"
      ],
      "execution_count": 57,
      "outputs": []
    },
    {
      "cell_type": "markdown",
      "metadata": {
        "id": "KBIa-ggXU7gq",
        "colab_type": "text"
      },
      "source": [
        "\n",
        "\n",
        "---\n",
        "\n",
        "\n",
        "\n",
        "---\n",
        "\n"
      ]
    },
    {
      "cell_type": "markdown",
      "metadata": {
        "id": "hFX4L0GBXqQB",
        "colab_type": "text"
      },
      "source": [
        "#**Processing for Second Speaker**"
      ]
    },
    {
      "cell_type": "code",
      "metadata": {
        "id": "9k4PJKhkU-FT",
        "colab_type": "code",
        "colab": {}
      },
      "source": [
        "from pydub import AudioSegment\n",
        "newAudio = AudioSegment.from_wav(\"/content/sample_data/Samoy.wav\")\n",
        "\n",
        "#Start timestamps for Speaker 0\n",
        "start = [3.42, 23.595, 38.46, 42.53, 45.155, 51.31, 66.06, 70.57, 73.195, 73.945, 78.2,\n",
        "          79.325, 80.075, 84.42, 93.68, 99.54, 107.71, 113.51, 118.62, 122.87, 131.39, 150.84,\n",
        "            155.4, 160.02, 165.2, 175.705, 177.92, 186.675, 206.515, 218.54, 226.1, 230.975, 236.225,\n",
        "              236.975, 240, 257.965, 262.465, 269.965, 278.09, 283.715]\n",
        "\n",
        "#End timestamps for Speaker 0\n",
        "end = [7.61, 34.095, 41.93, 45.155, 45.99, 54.71, 69.97, 73.195, 73.945, 77.6, 79.325,\n",
        "        80.075, 83.820, 93.08, 98.940, 107.110, 112.91, 118.020, 122.270, 129.52, 134.015, 154.8,\n",
        "          158.8, 164.600, 171.51, 176.480, 183.45, 188.34, 213.265, 222.665, 228.725, 234.725, 236.975,\n",
        "            238.475, 244.01, 260.215, 269.215, 275.215, 280.715, 284.465]"
      ],
      "execution_count": 60,
      "outputs": []
    },
    {
      "cell_type": "code",
      "metadata": {
        "id": "Jx4NSiYY-f43",
        "colab_type": "code",
        "colab": {}
      },
      "source": [
        "for i in range(len(start)):\n",
        "\n",
        "  newAudio = AudioSegment.from_wav(\"/content/sample_data/Samoy.wav\")\n",
        "  newAudio = newAudio[int(start[i]*1000):int(end[i]*1000)]\n",
        "\n",
        "  newAudio.export('newSong' + str(i) + '.wav', format=\"wav\")"
      ],
      "execution_count": 61,
      "outputs": []
    },
    {
      "cell_type": "code",
      "metadata": {
        "id": "h600nb8vXozD",
        "colab_type": "code",
        "colab": {}
      },
      "source": [
        "combined_sounds = AudioSegment.from_wav(\"/content/newSong0.wav\")\n",
        "\n",
        "for i in range(1,len(start)):\n",
        "  sound = AudioSegment.from_wav(\"/content/newSong\" + str(i) + \".wav\")\n",
        "  \n",
        "  combined_sounds = combined_sounds + sound\n",
        "  combined_sounds.export('newSong_Total.wav', format=\"wav\")"
      ],
      "execution_count": 62,
      "outputs": []
    },
    {
      "cell_type": "code",
      "metadata": {
        "id": "rCF9XC7KX3uo",
        "colab_type": "code",
        "colab": {}
      },
      "source": [
        "import os\n",
        "for i in range(len(start)):\n",
        "  os.remove('/content/newSong' + str(i) + '.wav')"
      ],
      "execution_count": 63,
      "outputs": []
    },
    {
      "cell_type": "code",
      "metadata": {
        "id": "WgVOMBTaX7Sd",
        "colab_type": "code",
        "colab": {}
      },
      "source": [
        ""
      ],
      "execution_count": null,
      "outputs": []
    }
  ]
}